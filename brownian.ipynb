

import numpy as np
import matplotlib.pyplot as plt

seed = 5       
N  = 2.**6     

def Brownian(seed, N):
    
    np.random.seed(seed)                         
    dt = 1./N              
    b = np.random.normal(0., 1., int(N))*np.sqrt(dt)  
    W = np.cumsum(b)                             
    return W, b


b = Brownian(seed, N)[1]


W = Brownian(seed, N)[0]
W = np.insert(W, 0, 0.)                      
%matplotlib inline
plt.rcParams['figure.figsize'] = (10,8)
xb = np.linspace(1, len(b), len(b))
plt.plot(xb, b)
plt.title('Brownian Increments')

xw = np.linspace(1, len(W), len(W))
plt.plot(xw, W)
plt.title('Brownian Motion')
def GBM(So, mu, sigma, W, T, N):    
    t = np.linspace(0.,1.,N+1)
    S = []
    S.append(So)
    for i in range(1,int(N+1)):
        drift = (mu - 0.5 * sigma**2) * t[i]
        diffusion = sigma * W[i-1]
        S_temp = So*np.exp(drift + diffusion)
        S.append(S_temp)
    return S, t

So = 35
mu = 0.15
sigma = 0.4
W = Brownian(seed, N)[0]
T = 1.
N = 2.**6

soln = GBM(So, mu, sigma, W, T, N)[0]   
t = GBM(So, mu, sigma, W, T, N)[1]       

plt.plot(t, soln)
plt.ylabel('Stock Price, $')
plt.title('Geometric Brownian Motion')